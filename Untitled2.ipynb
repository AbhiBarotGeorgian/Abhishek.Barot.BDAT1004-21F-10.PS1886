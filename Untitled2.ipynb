{
 "cells": [
  {
   "cell_type": "code",
   "execution_count": null,
   "id": "47a5db2e",
   "metadata": {},
   "outputs": [],
   "source": [
    "A1 = 'ay'\n",
    "B1 = 'way'\n",
    "consonant = ('B','C','D','F','G','H','J','K','L','M','N','P','Q','R','S','T','Y','V','X','Z')\n",
    "vowel = ('A','E','I','O','U')\n",
    "\n",
    "user_word = input('Write a word for translating  into Pig Latin: ')\n",
    "word = user_word[0]\n",
    "word = str(word)\n",
    "word=word.upper()\n",
    "if word in consonant:\n",
    "    print(word,'is a consonant')\n",
    "    length_of_word = len(user_word)\n",
    "    remove_word = user_word[1:length_of_word]\n",
    "    pig_latin=remove_word+word+A1\n",
    "    print('The word in Pig Latin is:',pig_latin)\n",
    "elif word in vowel:\n",
    "    print(word,'is a vowel')\n",
    "    pig_latin=user_word+B1\n",
    "    print('The word in Pig Latin is:',pig_latin)\n",
    "else:\n",
    "    print('I dont know what',word,'is')"
   ]
  },
  {
   "cell_type": "code",
   "execution_count": null,
   "id": "6450e1e6",
   "metadata": {},
   "outputs": [],
   "source": []
  }
 ],
 "metadata": {
  "kernelspec": {
   "display_name": "Python 3",
   "language": "python",
   "name": "python3"
  },
  "language_info": {
   "codemirror_mode": {
    "name": "ipython",
    "version": 3
   },
   "file_extension": ".py",
   "mimetype": "text/x-python",
   "name": "python",
   "nbconvert_exporter": "python",
   "pygments_lexer": "ipython3",
   "version": "3.8.8"
  }
 },
 "nbformat": 4,
 "nbformat_minor": 5
}
